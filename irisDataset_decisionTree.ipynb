{
 "cells": [
  {
   "cell_type": "code",
   "execution_count": 1,
   "metadata": {},
   "outputs": [],
   "source": [
    "from sklearn import datasets\n",
    "\n",
    "iris = datasets.load_iris()"
   ]
  },
  {
   "cell_type": "code",
   "execution_count": 2,
   "metadata": {},
   "outputs": [],
   "source": [
    "import numpy as np\n",
    "\n",
    "labels = np.array([[iris['target_names'][iris['target'][i]]] for i in range(len(iris['target']))],dtype=object)\n",
    "\n",
    "# строчки будут вида [4.9 3.1 1.5 0.2 'setosa'], [5.5 2.4 3.8 1.1 'versicolor'] и т.д.\n",
    "data = np.append(np.array(iris['data'],dtype=object), labels, axis=1)\n",
    "\n",
    "# print(data)"
   ]
  },
  {
   "cell_type": "code",
   "execution_count": 3,
   "metadata": {},
   "outputs": [],
   "source": [
    "# разделяем данные на обучающие и тренировочные\n",
    "\n",
    "\n",
    "# перемешиваем строчки (при перезапуске перемешивается заново)\n",
    "np.random.shuffle(data)\n",
    "\n",
    "training_data, testing_data = np.split(data, [int(0.9*len(data))])\n",
    "\n",
    "# print(training_data)\n",
    "# print(testing_data)"
   ]
  },
  {
   "cell_type": "code",
   "execution_count": 42,
   "metadata": {},
   "outputs": [
    {
     "data": {
      "text/plain": [
       "{'setosa': 45, 'versicolor': 47, 'virginica': 43}"
      ]
     },
     "execution_count": 42,
     "metadata": {},
     "output_type": "execute_result"
    }
   ],
   "source": [
    "def class_counts(arr):\n",
    "    \"\"\"считает количество цветков каждого типа\"\"\"\n",
    "    counts = {} \n",
    "    unique, count = np.unique(arr[:,-1], return_counts=True)\n",
    "    for i in range(len(unique)):\n",
    "        counts[unique[i]] = count[i]\n",
    "    return counts"
   ]
  },
  {
   "cell_type": "code",
   "execution_count": 5,
   "metadata": {},
   "outputs": [],
   "source": [
    "header = [\"sepal length\", \"sepal width\", \"petal length\", \"petal width\"]\n",
    "\n",
    "class Question:\n",
    "    \"\"\"Вопросы, которые используются чтобы разделить датасет на два подмножества.\"\"\"\n",
    "\n",
    "    def __init__(self, column, value):\n",
    "        self.column = column\n",
    "        self.value = value\n",
    "\n",
    "    def match(self, example):\n",
    "        \"\"\" Удовлетворяет ли элемент условию вопроса\"\"\"\n",
    "        return example[self.column] >= self.value\n",
    "        \n",
    "\n",
    "    def __repr__(self):\n",
    "        return f\"Is {header[self.column]} >= {str(self.value)}\""
   ]
  },
  {
   "cell_type": "code",
   "execution_count": 6,
   "metadata": {},
   "outputs": [],
   "source": [
    "def gini(arr):\n",
    "    \"\"\"Считает загрязнённость датасета. Для каждой метки находится\n",
    "    вероятность того, что случайно выбранный элемент датасета имеет эту метку. \"\"\"\n",
    "    counts = class_counts(arr)\n",
    "    impurity = 1\n",
    "    for label in counts:\n",
    "        probability_of_label = counts[label] / float(len(arr))\n",
    "        impurity -= probability_of_label**2\n",
    "    return impurity"
   ]
  },
  {
   "cell_type": "code",
   "execution_count": 7,
   "metadata": {},
   "outputs": [],
   "source": [
    "def info_gain(left, right, current_uncertainty):\n",
    "    \"\"\"считает насколько хорошо данный вопрос делит датасет.\n",
    "    от изначальной загрязненности отнимается взвешенная загрязненность подмножеств\"\"\"\n",
    "    p = float(len(left)) / (len(left) + len(right))\n",
    "    return current_uncertainty - p * gini(left) - (1 - p) * gini(right)"
   ]
  },
  {
   "cell_type": "code",
   "execution_count": 8,
   "metadata": {},
   "outputs": [],
   "source": [
    "def find_best_split(arr):\n",
    "    \"\"\"Находится лучший вопрос (на котором функция info_gain принимает наибольшее значение)\n",
    "    Возвращается лучший вопрос и значение info_gain на нём\"\"\"\n",
    "    best_gain = 0  \n",
    "    best_question = None \n",
    "    current_uncertainty = gini(arr)\n",
    "    n_features = len(arr[0]) - 1 \n",
    "\n",
    "    for col in range(n_features):\n",
    "\n",
    "        values = set([row[col] for row in arr])\n",
    "\n",
    "        for val in values: \n",
    "\n",
    "            question = Question(col, val)\n",
    "\n",
    "            # пытаемся разделить\n",
    "            true_arr = arr[arr[:,col]>=val,:]\n",
    "            false_arr = arr[arr[:,col]<val,:]\n",
    "\n",
    "            # Если хоть одно подмножество длины ноль, ищем другой вопрос\n",
    "            if not len(true_arr)*len(false_arr):\n",
    "                continue\n",
    "\n",
    "            # Иначе считаем, насколько изменилась загрязнённость\n",
    "            gain = info_gain(true_arr, false_arr, current_uncertainty)\n",
    "\n",
    "            if gain >= best_gain:\n",
    "                best_gain, best_question = gain, question\n",
    "\n",
    "    return best_gain, best_question"
   ]
  },
  {
   "cell_type": "code",
   "execution_count": 9,
   "metadata": {},
   "outputs": [],
   "source": [
    "class Leaf:\n",
    "    \"\"\"Лист дерева. Хранит словарь {label: count_of_label}\"\"\"\n",
    "\n",
    "    def __init__(self, arr):\n",
    "        self.predictions = class_counts(arr)\n",
    "        \n",
    "        \n",
    "class Decision_Node:\n",
    "    \"\"\"Внутренний узел дерева. \n",
    "    Хранит вопрос, который делит этот узел и ветки, на которые поделится датасет\"\"\"\n",
    "\n",
    "    def __init__(self, question, true_branch, false_branch, arr):\n",
    "        self.question = question\n",
    "        self.true_branch = true_branch\n",
    "        self.false_branch = false_branch\n",
    "        self.arr = arr\n",
    "        "
   ]
  },
  {
   "cell_type": "code",
   "execution_count": 10,
   "metadata": {},
   "outputs": [],
   "source": [
    "def build_tree(arr):\n",
    "    \"\"\"Решающее дерево\"\"\"\n",
    "\n",
    "    gain, question = find_best_split(arr)\n",
    "\n",
    "    if gain == 0:\n",
    "        return Leaf(arr)\n",
    "\n",
    "    true_arr = arr[arr[:,question.column]>=question.value,:]\n",
    "    false_arr = arr[arr[:,question.column]<question.value,:]\n",
    "\n",
    "    true_branch = build_tree(true_arr)\n",
    "    false_branch = build_tree(false_arr)\n",
    "\n",
    "    return Decision_Node(question, true_branch, false_branch, arr)"
   ]
  },
  {
   "cell_type": "code",
   "execution_count": 11,
   "metadata": {},
   "outputs": [],
   "source": [
    "def print_tree(node, spacing=\"\"):\n",
    "    \"\"\"Нарисовать схему вопросов, характеризующую это дерево\"\"\"\n",
    "\n",
    "    if isinstance(node, Leaf):\n",
    "        print (spacing + \"Predict\", node.predictions)\n",
    "        return\n",
    "\n",
    "    print (spacing + str(node.question))\n",
    "\n",
    "    print (spacing + '--> True:')\n",
    "    print_tree(node.true_branch, spacing + \"  \")\n",
    "\n",
    "    print (spacing + '--> False:')\n",
    "    print_tree(node.false_branch, spacing + \"  \")"
   ]
  },
  {
   "cell_type": "code",
   "execution_count": 12,
   "metadata": {},
   "outputs": [],
   "source": [
    "# функции для отображения каждого листа\n",
    "\n",
    "def classify(row, node):\n",
    "    if isinstance(node, Leaf):\n",
    "        return node.predictions\n",
    "\n",
    "    if node.question.match(row):\n",
    "        return classify(row, node.true_branch)\n",
    "    else:\n",
    "        return classify(row, node.false_branch)\n",
    "    \n",
    "def print_leaf(counts):\n",
    "    total = float(sum(counts.values()))\n",
    "    probs = {}\n",
    "    for label in counts.keys():\n",
    "        probs[label] = str(int(counts[label] / total * 100)) + \"%\"\n",
    "    return probs"
   ]
  },
  {
   "cell_type": "code",
   "execution_count": 13,
   "metadata": {},
   "outputs": [
    {
     "name": "stdout",
     "output_type": "stream",
     "text": [
      "Is petal width >= 1.0\n",
      "--> True:\n",
      "  Is petal width >= 1.8\n",
      "  --> True:\n",
      "    Is petal length >= 4.9\n",
      "    --> True:\n",
      "      Predict {'virginica': 38}\n",
      "    --> False:\n",
      "      Is sepal width >= 3.2\n",
      "      --> True:\n",
      "        Predict {'versicolor': 1}\n",
      "      --> False:\n",
      "        Predict {'virginica': 2}\n",
      "  --> False:\n",
      "    Is petal length >= 5.6\n",
      "    --> True:\n",
      "      Predict {'virginica': 2}\n",
      "    --> False:\n",
      "      Is sepal length >= 5.0\n",
      "      --> True:\n",
      "        Is petal length >= 5.0\n",
      "        --> True:\n",
      "          Is petal width >= 1.6\n",
      "          --> True:\n",
      "            Predict {'versicolor': 2}\n",
      "          --> False:\n",
      "            Predict {'virginica': 1}\n",
      "        --> False:\n",
      "          Predict {'versicolor': 41}\n",
      "      --> False:\n",
      "        Is petal width >= 1.7\n",
      "        --> True:\n",
      "          Predict {'virginica': 1}\n",
      "        --> False:\n",
      "          Predict {'versicolor': 1}\n",
      "--> False:\n",
      "  Predict {'setosa': 46}\n"
     ]
    }
   ],
   "source": [
    "my_tree = build_tree(training_data)\n",
    "print_tree(my_tree)"
   ]
  },
  {
   "cell_type": "code",
   "execution_count": 14,
   "metadata": {},
   "outputs": [
    {
     "name": "stdout",
     "output_type": "stream",
     "text": [
      "Метка: setosa. Предполагаемая метка: {'setosa': '100%'}\n",
      "Метка: versicolor. Предполагаемая метка: {'versicolor': '100%'}\n",
      "Метка: virginica. Предполагаемая метка: {'virginica': '100%'}\n",
      "Метка: virginica. Предполагаемая метка: {'virginica': '100%'}\n",
      "Метка: virginica. Предполагаемая метка: {'virginica': '100%'}\n",
      "Метка: versicolor. Предполагаемая метка: {'versicolor': '100%'}\n",
      "Метка: versicolor. Предполагаемая метка: {'versicolor': '100%'}\n",
      "Метка: versicolor. Предполагаемая метка: {'versicolor': '100%'}\n",
      "Метка: virginica. Предполагаемая метка: {'virginica': '100%'}\n",
      "Метка: virginica. Предполагаемая метка: {'virginica': '100%'}\n",
      "Метка: setosa. Предполагаемая метка: {'setosa': '100%'}\n",
      "Метка: setosa. Предполагаемая метка: {'setosa': '100%'}\n",
      "Метка: virginica. Предполагаемая метка: {'virginica': '100%'}\n",
      "Метка: versicolor. Предполагаемая метка: {'versicolor': '100%'}\n",
      "Метка: setosa. Предполагаемая метка: {'setosa': '100%'}\n",
      "Точность этого дерева: 1.0\n"
     ]
    }
   ],
   "source": [
    "summa = 0\n",
    "for row in testing_data:\n",
    "    predictions = classify(row, my_tree)\n",
    "    print (f\"Метка: {row[-1]}. Предполагаемая метка: {print_leaf(predictions)}\")\n",
    "    cur_sum = 0\n",
    "    for pred in predictions.items():\n",
    "        if row[-1] == pred[0]:\n",
    "            cur_sum += pred[1]\n",
    "    summa += cur_sum/float(sum(predictions.values()))\n",
    "print('Точность этого дерева:', summa/len(testing_data))\n",
    "\n",
    "        \n",
    "    "
   ]
  },
  {
   "cell_type": "code",
   "execution_count": 15,
   "metadata": {},
   "outputs": [],
   "source": [
    "# Рисуем как каждый вопрос разделяет данные\n",
    "# Вертикальная линия символизирует разделение на два подмножества\n",
    "# Точки - элементы множества со значением параметра, откладываемым по оси абсцисс\n",
    "# значение по ординате символизирует вид цветка. 1 - setosa, 3 - virginica, 5 - versicolor\n",
    "import matplotlib.pyplot as plt\n",
    "\n",
    "def plot_tree(tree):\n",
    "    if isinstance(tree, Leaf):\n",
    "        return\n",
    "    X = [tree.arr[:,tree.question.column]]\n",
    "    Y = [1 if tree.arr[i][-1]=='setosa' else 3 if tree.arr[i][-1]=='virginica' else 5 for i in range(len(tree.arr))]\n",
    "    plt.title(repr(tree.question))\n",
    "    plt.xlabel(header[tree.question.column])\n",
    "    plt.ylabel('Вид цветка')\n",
    "\n",
    "    plt.scatter(X,Y)\n",
    "    plt.vlines(tree.question.value, 0.5, 5.5)\n",
    "    plt.show()\n",
    "    plot_tree(tree.false_branch)\n",
    "    plot_tree(tree.true_branch)\n"
   ]
  },
  {
   "cell_type": "code",
   "execution_count": 16,
   "metadata": {},
   "outputs": [
    {
     "data": {
      "image/png": "[encoded data removed]",
      "text/plain": [
       "<Figure size 432x288 with 1 Axes>"
      ]
     },
     "metadata": {
      "needs_background": "light"
     },
     "output_type": "display_data"
    },
    {
     "data": {
      "image/png": "[encoded data removed]",
      "text/plain": [
       "<Figure size 432x288 with 1 Axes>"
      ]
     },
     "metadata": {
      "needs_background": "light"
     },
     "output_type": "display_data"
    },
    {
     "data": {
      "image/png": "[encoded data removed]",
      "text/plain": [
       "<Figure size 432x288 with 1 Axes>"
      ]
     },
     "metadata": {
      "needs_background": "light"
     },
     "output_type": "display_data"
    },
    {
     "data": {
      "image/png": "[encoded data removed]",
      "text/plain": [
       "<Figure size 432x288 with 1 Axes>"
      ]
     },
     "metadata": {
      "needs_background": "light"
     },
     "output_type": "display_data"
    },
    {
     "data": {
      "image/png": "[encoded data removed]",
      "text/plain": [
       "<Figure size 432x288 with 1 Axes>"
      ]
     },
     "metadata": {
      "needs_background": "light"
     },
     "output_type": "display_data"
    },
    {
     "data": {
      "image/png": "[encoded data removed]",
      "text/plain": [
       "<Figure size 432x288 with 1 Axes>"
      ]
     },
     "metadata": {
      "needs_background": "light"
     },
     "output_type": "display_data"
    },
    {
     "data": {
      "image/png": "[encoded data removed]",
      "text/plain": [
       "<Figure size 432x288 with 1 Axes>"
      ]
     },
     "metadata": {
      "needs_background": "light"
     },
     "output_type": "display_data"
    },
    {
     "data": {
      "image/png": "[encoded data removed]",
      "text/plain": [
       "<Figure size 432x288 with 1 Axes>"
      ]
     },
     "metadata": {
      "needs_background": "light"
     },
     "output_type": "display_data"
    },
    {
     "data": {
      "image/png": "[encoded data removed]",
      "text/plain": [
       "<Figure size 432x288 with 1 Axes>"
      ]
     },
     "metadata": {
      "needs_background": "light"
     },
     "output_type": "display_data"
    }
   ],
   "source": [
    "plot_tree(my_tree)"
   ]
  },
  {
   "cell_type": "code",
   "execution_count": null,
   "metadata": {},
   "outputs": [],
   "source": []
  }
 ],
 "metadata": {
  "kernelspec": {
   "display_name": "Python 3",
   "language": "python",
   "name": "python3"
  },
  "language_info": {
   "codemirror_mode": {
    "name": "ipython",
    "version": 3
   },
   "file_extension": ".py",
   "mimetype": "text/x-python",
   "name": "python",
   "nbconvert_exporter": "python",
   "pygments_lexer": "ipython3",
   "version": "3.7.3"
  }
 },
 "nbformat": 4,
 "nbformat_minor": 2
}
